{
 "cells": [
  {
   "cell_type": "code",
   "execution_count": 1,
   "metadata": {},
   "outputs": [],
   "source": [
    "import matplotlib.pyplot as plt\n",
    "\n",
    "import main as lightcode\n",
    "import hardware as hw\n",
    "import graph_transformations as gt\n",
    "import stacked_graph as sg\n",
    "import input_validation as validate\n",
    "import data_collection as dc\n",
    "import code_generation as cg"
   ]
  },
  {
   "cell_type": "markdown",
   "metadata": {},
   "source": [
    "# Prefill stage between photonic and electronic across various sequence lengths "
   ]
  },
  {
   "cell_type": "code",
   "execution_count": 6,
   "metadata": {},
   "outputs": [],
   "source": [
    "cpu_moc_sequence_len = []\n",
    "cpu_makespan = []\n",
    "cpu_total_energy = []\n",
    "\n",
    "# relay_path = \"models/gpt2_graph.json\" # 5\n",
    "# relay_path = \"models/gpt2_prefill_graph.json\"\n",
    "# relay_path = \"models/gpt2_decoder_graph.json\" # 6\n",
    "# relay_path = \"models/Llama-2-7b-hf_graph.json\" # 6\n",
    "relay_path = \"models/opt0_Llama-2-7b-hf_graph.json\" # 6\n",
    "# relay_path = \"models/llama_2_7b_decoder_graph.json\" # 11\n",
    "\n",
    "'''\n",
    "The numbers corospond to the sequence length the trace was made on. This is the\n",
    "number that must be changed in /lightcode/stacked_graph.py calls to get_moc_size.\n",
    "This is how it knows what the shapes are dynamically sized based uppon the input\n",
    "sequence. Will try to make a better wrapper later\n",
    "These numbers were chosen because they dont appear anywehre else in the dimentions\n",
    "of operations in either GPT2 or llama-2-7b-hf\n",
    "'''\n",
    "\n",
    "optimization = \"time\"\n",
    "# optimization = \"energy\"\n",
    "\n",
    "CPU_MAX_CLOCK = 5.0875 * 10**9  # 5.0875 e+9 5Ghz\n",
    "CPU_AVERAGE_CLOCK = 3.208 * 10**9  # 60**9, 6\n",
    "PHU_MIN_CLOCK = 9.7 * 10**9  # 100**9, 10 Ghz\n",
    "\n",
    "hw.Hardware._hardware_reset()\n",
    "hardware = [\n",
    "    hw.CPU(CPU_AVERAGE_CLOCK, 1),\n",
    "]\n",
    "\n",
    "available_hardware = hw.initilize_hardware(hardware)\n",
    "\n",
    "for length in range(50):\n",
    "    length = length * 30\n",
    "    sim_result = lightcode.graph_search(\n",
    "        relay_path,\n",
    "        optimization,\n",
    "        available_hardware,\n",
    "        moc_sequence_length = length,\n",
    "        profiles=True,\n",
    "        data_collection=False,\n",
    "    )\n",
    "\n",
    "    cpu_moc_sequence_len.append(sim_result[\"moc_sequence_length\"])\n",
    "    cpu_makespan.append(sim_result[\"Makespan\"])\n",
    "    cpu_total_energy.append(sim_result[\"total_energy\"])\n"
   ]
  },
  {
   "cell_type": "code",
   "execution_count": 3,
   "metadata": {},
   "outputs": [],
   "source": [
    "phu_moc_sequence_len = []\n",
    "phu_makespan = []\n",
    "phu_total_energy = []\n",
    "\n",
    "\n",
    "hw.Hardware._hardware_reset()\n",
    "hardware = [\n",
    "    hw.CPU(CPU_AVERAGE_CLOCK, 1),\n",
    "    hw.PHU(PHU_MIN_CLOCK, 1, 20),\n",
    "]\n",
    "\n",
    "available_hardware = hw.initilize_hardware(hardware)\n",
    "\n",
    "for length in range(50):\n",
    "    length = length * 30\n",
    "    sim_result = lightcode.graph_search(\n",
    "        relay_path,\n",
    "        optimization,\n",
    "        available_hardware,\n",
    "        moc_sequence_length = length,\n",
    "        profiles=True,\n",
    "        data_collection=False,\n",
    "    )\n",
    "\n",
    "    phu_moc_sequence_len.append(sim_result[\"moc_sequence_length\"])\n",
    "    phu_makespan.append(sim_result[\"Makespan\"])\n",
    "    phu_total_energy.append(sim_result[\"total_energy\"])\n"
   ]
  },
  {
   "cell_type": "code",
   "execution_count": 3,
   "metadata": {},
   "outputs": [
    {
     "ename": "NameError",
     "evalue": "name 'phu_moc_sequence_len' is not defined",
     "output_type": "error",
     "traceback": [
      "\u001b[0;31m---------------------------------------------------------------------------\u001b[0m",
      "\u001b[0;31mNameError\u001b[0m                                 Traceback (most recent call last)",
      "Cell \u001b[0;32mIn[3], line 2\u001b[0m\n\u001b[1;32m      1\u001b[0m plt\u001b[38;5;241m.\u001b[39mplot(cpu_moc_sequence_len, cpu_makespan, marker\u001b[38;5;241m=\u001b[39m\u001b[38;5;124m'\u001b[39m\u001b[38;5;124mo\u001b[39m\u001b[38;5;124m'\u001b[39m, label\u001b[38;5;241m=\u001b[39m\u001b[38;5;124m'\u001b[39m\u001b[38;5;124mcpu\u001b[39m\u001b[38;5;124m'\u001b[39m)\n\u001b[0;32m----> 2\u001b[0m plt\u001b[38;5;241m.\u001b[39mplot(\u001b[43mphu_moc_sequence_len\u001b[49m, phu_makespan, marker\u001b[38;5;241m=\u001b[39m\u001b[38;5;124m'\u001b[39m\u001b[38;5;124mo\u001b[39m\u001b[38;5;124m'\u001b[39m, label\u001b[38;5;241m=\u001b[39m\u001b[38;5;124m'\u001b[39m\u001b[38;5;124mphu\u001b[39m\u001b[38;5;124m'\u001b[39m)\n\u001b[1;32m      4\u001b[0m \u001b[38;5;66;03m# Add titles and labels\u001b[39;00m\n\u001b[1;32m      5\u001b[0m \u001b[38;5;66;03m# llama-2-7b-hf\u001b[39;00m\n\u001b[1;32m      6\u001b[0m plt\u001b[38;5;241m.\u001b[39mtitle(\u001b[38;5;124m'\u001b[39m\u001b[38;5;124mPrefill Stage GPT2\u001b[39m\u001b[38;5;124m'\u001b[39m)\n",
      "\u001b[0;31mNameError\u001b[0m: name 'phu_moc_sequence_len' is not defined"
     ]
    },
    {
     "data": {
      "image/png": "[encoded data removed]",
      "text/plain": [
       "<Figure size 640x480 with 1 Axes>"
      ]
     },
     "metadata": {},
     "output_type": "display_data"
    }
   ],
   "source": [
    "plt.plot(cpu_moc_sequence_len, cpu_makespan, marker='o', label='cpu')\n",
    "plt.plot(phu_moc_sequence_len, phu_makespan, marker='o', label='phu')\n",
    "\n",
    "# Add titles and labels\n",
    "# llama-2-7b-hf\n",
    "plt.title('Prefill Stage GPT2')\n",
    "plt.xlabel('Sequence Length')\n",
    "plt.ylabel('Makespan')\n",
    "\n",
    "# Display the plot\n",
    "plt.grid(True)\n",
    "plt.legend()\n",
    "plt.show()\n"
   ]
  },
  {
   "cell_type": "code",
   "execution_count": 4,
   "metadata": {},
   "outputs": [
    {
     "ename": "NameError",
     "evalue": "name 'phu_moc_sequence_len' is not defined",
     "output_type": "error",
     "traceback": [
      "\u001b[0;31m---------------------------------------------------------------------------\u001b[0m",
      "\u001b[0;31mNameError\u001b[0m                                 Traceback (most recent call last)",
      "Cell \u001b[0;32mIn[4], line 2\u001b[0m\n\u001b[1;32m      1\u001b[0m plt\u001b[38;5;241m.\u001b[39mplot(cpu_moc_sequence_len, cpu_total_energy, marker\u001b[38;5;241m=\u001b[39m\u001b[38;5;124m'\u001b[39m\u001b[38;5;124mo\u001b[39m\u001b[38;5;124m'\u001b[39m, label\u001b[38;5;241m=\u001b[39m\u001b[38;5;124m'\u001b[39m\u001b[38;5;124mcpu\u001b[39m\u001b[38;5;124m'\u001b[39m)\n\u001b[0;32m----> 2\u001b[0m plt\u001b[38;5;241m.\u001b[39mplot(\u001b[43mphu_moc_sequence_len\u001b[49m, phu_total_energy, marker\u001b[38;5;241m=\u001b[39m\u001b[38;5;124m'\u001b[39m\u001b[38;5;124mo\u001b[39m\u001b[38;5;124m'\u001b[39m, label\u001b[38;5;241m=\u001b[39m\u001b[38;5;124m'\u001b[39m\u001b[38;5;124mphu\u001b[39m\u001b[38;5;124m'\u001b[39m)\n\u001b[1;32m      4\u001b[0m \u001b[38;5;66;03m# Add titles and labels\u001b[39;00m\n\u001b[1;32m      5\u001b[0m plt\u001b[38;5;241m.\u001b[39mtitle(\u001b[38;5;124m'\u001b[39m\u001b[38;5;124mPrefill Stage GPT2\u001b[39m\u001b[38;5;124m'\u001b[39m)\n",
      "\u001b[0;31mNameError\u001b[0m: name 'phu_moc_sequence_len' is not defined"
     ]
    },
    {
     "data": {
      "image/png": "[encoded data removed]",
      "text/plain": [
       "<Figure size 640x480 with 1 Axes>"
      ]
     },
     "metadata": {},
     "output_type": "display_data"
    }
   ],
   "source": [
    "plt.plot(cpu_moc_sequence_len, cpu_total_energy, marker='o', label='cpu')\n",
    "plt.plot(phu_moc_sequence_len, phu_total_energy, marker='o', label='phu')\n",
    "\n",
    "# Add titles and labels\n",
    "plt.title('Prefill Stage GPT2')\n",
    "plt.xlabel('Sequence Length')\n",
    "plt.ylabel('total_energy')\n",
    "\n",
    "# Display the plot\n",
    "plt.grid(True)\n",
    "plt.legend()\n",
    "plt.show()"
   ]
  },
  {
   "cell_type": "code",
   "execution_count": 5,
   "metadata": {},
   "outputs": [
    {
     "name": "stdout",
     "output_type": "stream",
     "text": [
      "[]\n"
     ]
    },
    {
     "ename": "NameError",
     "evalue": "name 'phu_makespan' is not defined",
     "output_type": "error",
     "traceback": [
      "\u001b[0;31m---------------------------------------------------------------------------\u001b[0m",
      "\u001b[0;31mNameError\u001b[0m                                 Traceback (most recent call last)",
      "Cell \u001b[0;32mIn[5], line 2\u001b[0m\n\u001b[1;32m      1\u001b[0m \u001b[38;5;28mprint\u001b[39m(cpu_makespan)\n\u001b[0;32m----> 2\u001b[0m \u001b[38;5;28mprint\u001b[39m(\u001b[43mphu_makespan\u001b[49m)\n\u001b[1;32m      3\u001b[0m \u001b[38;5;28mprint\u001b[39m(cpu_total_energy)\n\u001b[1;32m      4\u001b[0m \u001b[38;5;28mprint\u001b[39m(phu_total_energy)\n",
      "\u001b[0;31mNameError\u001b[0m: name 'phu_makespan' is not defined"
     ]
    }
   ],
   "source": [
    "print(cpu_makespan)\n",
    "print(phu_makespan)\n",
    "print(cpu_total_energy)\n",
    "print(phu_total_energy)\n"
   ]
  },
  {
   "cell_type": "markdown",
   "metadata": {},
   "source": [
    "# Decoder stage across sequence length"
   ]
  },
  {
   "cell_type": "code",
   "execution_count": 8,
   "metadata": {},
   "outputs": [
    {
     "name": "stderr",
     "output_type": "stream",
     "text": [
      "/home/rjtomich/miniconda3/envs/newest/lib/python3.12/site-packages/tqdm/auto.py:21: TqdmWarning: IProgress not found. Please update jupyter and ipywidgets. See https://ipywidgets.readthedocs.io/en/stable/user_install.html\n",
      "  from .autonotebook import tqdm as notebook_tqdm\n",
      "Loading checkpoint shards: 100%|██████████| 2/2 [00:01<00:00,  1.41it/s]"
     ]
    },
    {
     "name": "stdout",
     "output_type": "stream",
     "text": [
      "10\n",
      "(1, 10)\n",
      "torch.Size([1, 32, 10, 128])\n"
     ]
    },
    {
     "name": "stderr",
     "output_type": "stream",
     "text": [
      "\n"
     ]
    }
   ],
   "source": [
    "\n",
    "import torch\n",
    "from transformers import LlamaForCausalLM, LlamaTokenizer\n",
    "\n",
    "def tokenize_input(prompt, tokenizer):\n",
    "    return tokenizer(prompt, return_tensors=\"pt\")\n",
    "\n",
    "def get_kv_cache(model, sequence_len):\n",
    "    if hasattr(model.config, \"n_head\"):  # GPT-2 case\n",
    "        num_heads = model.config.n_head\n",
    "        head_dim = model.config.n_embd // model.config.n_head\n",
    "    elif hasattr(model.config, \"num_attention_heads\"):  # LLaMA case\n",
    "        num_heads = model.config.num_attention_heads\n",
    "        head_dim = model.config.hidden_size // model.config.num_attention_heads\n",
    "    else:\n",
    "        raise ValueError(\n",
    "            \"Model config does not have expected attributes for attention heads or hidden size.\"\n",
    "        )\n",
    "\n",
    "    return torch.zeros(1, num_heads, sequence_len, head_dim)\n",
    "\n",
    "model_name = \"meta-llama/Llama-2-7b-hf\"\n",
    "# model_name = \"gpt2\"\n",
    "\n",
    "tokenizer = LlamaTokenizer.from_pretrained(model_name)\n",
    "model = LlamaForCausalLM.from_pretrained(model_name, torchscript=True)\n",
    "\n",
    "model.eval()\n",
    "\n",
    "tokenizer.pad_token = tokenizer.eos_token\n",
    "\n",
    "device = torch.device(\"cpu\")\n",
    "model = model.to(device)\n",
    "\n",
    "prompt = \"The future of AI is going to be\"\n",
    "inputs = tokenize_input(prompt, tokenizer)\n",
    "\n",
    "input_ids = inputs[\"input_ids\"]\n",
    "attention_mask = inputs[\"attention_mask\"]\n",
    "\n",
    "sequence_len = len(input_ids[0])\n",
    "input_ids_shape = (1, sequence_len)\n",
    "\n",
    "print(sequence_len)\n",
    "print(input_ids_shape)\n",
    "\n",
    "kv_cache_shape = get_kv_cache(model, sequence_len).shape\n",
    "\n",
    "print(kv_cache_shape)\n"
   ]
  },
  {
   "cell_type": "code",
   "execution_count": null,
   "metadata": {},
   "outputs": [],
   "source": []
  }
 ],
 "metadata": {
  "kernelspec": {
   "display_name": "newest",
   "language": "python",
   "name": "python3"
  },
  "language_info": {
   "codemirror_mode": {
    "name": "ipython",
    "version": 3
   },
   "file_extension": ".py",
   "mimetype": "text/x-python",
   "name": "python",
   "nbconvert_exporter": "python",
   "pygments_lexer": "ipython3",
   "version": "3.12.4"
  }
 },
 "nbformat": 4,
 "nbformat_minor": 2
}
